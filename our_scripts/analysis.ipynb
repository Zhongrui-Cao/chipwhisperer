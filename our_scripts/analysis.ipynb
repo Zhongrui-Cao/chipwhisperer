{
 "cells": [
  {
   "cell_type": "code",
   "execution_count": 1,
   "id": "4ded5579-db2e-4ff3-b047-ae80a72601d5",
   "metadata": {},
   "outputs": [],
   "source": [
    "import matplotlib.pyplot as plt\n",
    "from IPython.display import clear_output\n",
    "import numpy as np\n",
    "\n",
    "# for graphing\n",
    "from bokeh.plotting import figure, show, output_file\n",
    "from bokeh.resources import INLINE\n",
    "from bokeh.io import output_notebook\n",
    "from bokeh.models import Span\n",
    "output_file(\"temp_trace\")\n",
    "\n",
    "import os\n",
    "from playsound import playsound"
   ]
  },
  {
   "cell_type": "code",
   "execution_count": 2,
   "id": "058b6dcc-8280-4eeb-8a5e-830b7c206adb",
   "metadata": {},
   "outputs": [],
   "source": [
    "def load_one_capture(name, folder, directory=\"./captures/\"):  \n",
    "    for file in sorted(os.listdir(directory+folder)):\n",
    "        if file.startswith(name) and file.endswith('.npy'):\n",
    "            try:\n",
    "                array = np.load(os.path.join(directory+folder, file))\n",
    "                print(f\"loaded file {file}\")\n",
    "                return array\n",
    "            except Exception as e:\n",
    "                print(f\"Error loading {file}: {e}\")"
   ]
  },
  {
   "cell_type": "code",
   "execution_count": 3,
   "id": "46943369-0281-402a-845c-87383370da70",
   "metadata": {},
   "outputs": [],
   "source": [
    "def load_and_average_captures(folder, directory=\"./captures/\"):\n",
    "    running_sum = None\n",
    "    count = 0\n",
    "    \n",
    "    for file in sorted(os.listdir(directory+folder)):\n",
    "        if file.endswith('.npy'):\n",
    "            try:\n",
    "                array = np.load(os.path.join(directory+folder, file))\n",
    "                if running_sum is None:\n",
    "                    running_sum = np.zeros_like(array, dtype=np.float64)\n",
    "                \n",
    "                running_sum += array\n",
    "                count += 1\n",
    "                clear_output(wait=True)\n",
    "                print(f\"loading file {file}, count {count}\")\n",
    "            except Exception as e:\n",
    "                print(f\"Error loading {file}: {e}\")\n",
    "    print(\"loaded\", count, \"captures\")\n",
    "    return running_sum / count"
   ]
  },
  {
   "cell_type": "code",
   "execution_count": 38,
   "id": "e43093b3-7b77-4718-a80b-b100df005e34",
   "metadata": {},
   "outputs": [],
   "source": [
    "# captures = load_captures(\"trump_wake_word\")\n",
    "# len(captures)\n",
    "# find avg of the captures\n",
    "# avg_capture = np.mean(captures, axis=0)"
   ]
  },
  {
   "cell_type": "code",
   "execution_count": 27,
   "id": "20e8acd5-7981-4486-8d5c-404678b54c58",
   "metadata": {},
   "outputs": [
    {
     "name": "stdout",
     "output_type": "stream",
     "text": [
      "loading file 99.npy, count 110\n",
      "loaded 110 captures\n"
     ]
    }
   ],
   "source": [
    "avg_capture = load_and_average_captures(\"trump_wake_word_15mhz_200\")"
   ]
  },
  {
   "cell_type": "code",
   "execution_count": 23,
   "id": "c395c962-00e1-4775-b912-193dcd25955b",
   "metadata": {},
   "outputs": [
    {
     "name": "stdout",
     "output_type": "stream",
     "text": [
      "loaded file 29.npy\n"
     ]
    }
   ],
   "source": [
    "avg_capture = load_one_capture(\"29\", \"trump_wake_word_15mhz_200\")"
   ]
  },
  {
   "cell_type": "code",
   "execution_count": 29,
   "id": "38e254b5-c3a9-40fd-becf-0c247ca9782b",
   "metadata": {},
   "outputs": [
    {
     "name": "stdout",
     "output_type": "stream",
     "text": [
      "getting 750,000 number of points\n"
     ]
    }
   ],
   "source": [
    "# averaging for plotting\n",
    "window_size = 80\n",
    "num_points = len(avg_capture) // window_size\n",
    "print(\"getting\", f\"{num_points:,}\", \"number of points\")\n",
    "# 1 million seems to be the plotting limit"
   ]
  },
  {
   "cell_type": "code",
   "execution_count": 30,
   "id": "dc91e93d-6f8c-49b0-a60c-40a08967628b",
   "metadata": {},
   "outputs": [],
   "source": [
    "averaged_trace = [\n",
    "    np.mean(avg_capture[i * window_size:(i + 1) * window_size])\n",
    "    for i in range(num_points)\n",
    "]\n",
    "xrange_averaged = list(range(num_points))"
   ]
  },
  {
   "cell_type": "code",
   "execution_count": 31,
   "id": "4e9f8f5e-56f7-4eac-8f90-acaddc89801d",
   "metadata": {},
   "outputs": [],
   "source": [
    "# plot figure\n",
    "o = figure(width=2000)\n",
    "O = o.line(xrange_averaged, averaged_trace)\n",
    "show(o)"
   ]
  },
  {
   "cell_type": "code",
   "execution_count": 9,
   "id": "c589cfbe-d01c-4e64-92d0-58ca42ae07f4",
   "metadata": {},
   "outputs": [],
   "source": [
    "# plotting the beginning\n",
    "o = figure(width=5000)\n",
    "O = o.line(list(range(0, 1000000)), avg_capture[0:1000000])\n",
    "show(o)"
   ]
  },
  {
   "cell_type": "code",
   "execution_count": 23,
   "id": "4a7c88bc-e8ea-4ae7-87b3-6f36938fa025",
   "metadata": {},
   "outputs": [],
   "source": [
    "# plotting the beginning\n",
    "o = figure(width=5000)\n",
    "O = o.line(list(range(0, 1000000)), captures[0][0:1000000])\n",
    "show(o)"
   ]
  },
  {
   "cell_type": "code",
   "execution_count": 24,
   "id": "435d3d16-725d-4993-b0cb-e45faac0dc81",
   "metadata": {},
   "outputs": [
    {
     "data": {
      "text/plain": [
       "np.float64(0.004318853193359373)"
      ]
     },
     "execution_count": 24,
     "metadata": {},
     "output_type": "execute_result"
    }
   ],
   "source": [
    "np.mean(avg_capture)"
   ]
  },
  {
   "cell_type": "code",
   "execution_count": 25,
   "id": "02849cdb-37b4-4d86-a654-e7defc0792ae",
   "metadata": {},
   "outputs": [
    {
     "name": "stdout",
     "output_type": "stream",
     "text": [
      "getting 400,000 number of points\n"
     ]
    }
   ],
   "source": [
    "# plotting individual\n",
    "\n",
    "to_plot = captures[0]\n",
    "\n",
    "# averaging for plotting\n",
    "window_size = 100\n",
    "num_points = len(to_plot) // window_size\n",
    "print(\"getting\", f\"{num_points:,}\", \"number of points\")\n",
    "# 1 million seems to be the plotting limit\n",
    "\n",
    "averaged_trace = [\n",
    "    np.mean(to_plot[i * window_size:(i + 1) * window_size])\n",
    "    for i in range(num_points)\n",
    "]\n",
    "xrange_averaged = list(range(num_points))\n",
    "\n",
    "# plot figure\n",
    "o = figure(width=5000)\n",
    "O = o.line(xrange_averaged, averaged_trace)\n",
    "show(o)"
   ]
  },
  {
   "cell_type": "code",
   "execution_count": 5,
   "id": "85efcefc-5db9-4375-8710-1b2d8f6e80d8",
   "metadata": {},
   "outputs": [],
   "source": [
    "playsound(os.getcwd() + '/audio/trump_wake_word.wav', False)"
   ]
  },
  {
   "cell_type": "code",
   "execution_count": null,
   "id": "16e64ff3-0336-4c21-a5c2-475dc60d93e6",
   "metadata": {},
   "outputs": [],
   "source": []
  }
 ],
 "metadata": {
  "kernelspec": {
   "display_name": "Python 3 (ipykernel)",
   "language": "python",
   "name": "python3"
  },
  "language_info": {
   "codemirror_mode": {
    "name": "ipython",
    "version": 3
   },
   "file_extension": ".py",
   "mimetype": "text/x-python",
   "name": "python",
   "nbconvert_exporter": "python",
   "pygments_lexer": "ipython3",
   "version": "3.9.5"
  }
 },
 "nbformat": 4,
 "nbformat_minor": 5
}
