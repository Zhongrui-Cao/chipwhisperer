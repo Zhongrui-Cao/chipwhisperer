{
 "cells": [
  {
   "cell_type": "code",
   "execution_count": 15,
   "id": "3abbee97-90df-4a73-afe7-b2a126ca0ba0",
   "metadata": {},
   "outputs": [
    {
     "name": "stdout",
     "output_type": "stream",
     "text": [
      "Hello World!\n"
     ]
    }
   ],
   "source": [
    "###Leo & Ishan\n",
    "###Date: 5th November 2024\n",
    "print(\"Hello World!\")"
   ]
  },
  {
   "cell_type": "code",
   "execution_count": 16,
   "id": "cd70c6f6-1317-4939-bff5-d21157b8d654",
   "metadata": {},
   "outputs": [],
   "source": [
    "import chipwhisperer as cw\n",
    "import matplotlib.pyplot as plt\n",
    "from IPython.display import clear_output"
   ]
  },
  {
   "cell_type": "code",
   "execution_count": 17,
   "id": "b1813ae3-1924-4ee9-a3fe-a447fb61c225",
   "metadata": {},
   "outputs": [],
   "source": [
    "scope = cw.scope()"
   ]
  },
  {
   "cell_type": "code",
   "execution_count": 18,
   "id": "6b90586a-363f-4d9c-8c7b-007c540e8519",
   "metadata": {
    "scrolled": true
   },
   "outputs": [
    {
     "name": "stdout",
     "output_type": "stream",
     "text": [
      "scope.gain.mode                          changed from low                       to high                     \n",
      "scope.gain.gain                          changed from 0                         to 22                       \n",
      "scope.gain.db                            changed from 15.0                      to 25.091743119266056       \n",
      "scope.adc.samples                        changed from 131124                    to 5000                     \n",
      "scope.clock.clkgen_freq                  changed from 0                         to 7370129.87012987         \n",
      "scope.clock.adc_freq                     changed from 0                         to 29480519.48051948        \n",
      "scope.clock.extclk_monitor_enabled       changed from True                      to False                    \n",
      "scope.clock.extclk_tolerance             changed from 1144409.1796875           to 13096723.705530167       \n",
      "scope.io.tio1                            changed from serial_tx                 to serial_rx                \n",
      "scope.io.tio2                            changed from serial_rx                 to serial_tx                \n",
      "scope.io.hs2                             changed from None                      to clkgen                   \n",
      "scope.io.cdc_settings                    changed from bytearray(b'\\x01\\x00\\x00\\x00') to bytearray(b'\\x00\\x00\\x00\\x00')\n",
      "scope.glitch.phase_shift_steps           changed from 0                         to 4592                     \n",
      "scope.trace.capture.trigger_source       changed from trace trigger, rule #0    to firmware trigger         \n"
     ]
    }
   ],
   "source": [
    "scope.default_setup()\n",
    "scope.adc.stream_mode = True\n",
    "scope.adc.samples = 100000\n",
    "scope.adc.timeout = 16\n",
    "#print(scope)"
   ]
  },
  {
   "cell_type": "code",
   "execution_count": 19,
   "id": "9aadfb48-a9ea-48cc-94f2-9b0954241455",
   "metadata": {},
   "outputs": [],
   "source": [
    "scope.adc.samples = 50000000\n",
    "#scope.clock.adc_freq = 1800000\n",
    "scope.adc.bits_per_sample = 8\n",
    "scope.clock.adc_mul = 1\n",
    "scope.clock.clkgen_freq = 8000000\n",
    "scope.gain.gain = 8"
   ]
  },
  {
   "cell_type": "code",
   "execution_count": 20,
   "id": "30399933-2927-47e7-9a3a-09956a76fba1",
   "metadata": {
    "scrolled": true
   },
   "outputs": [
    {
     "name": "stdout",
     "output_type": "stream",
     "text": [
      "cwhusky Device\n",
      "sn             = 50203220325531583130353234323032\n",
      "fpga_buildtime = 4/11/2024, 09:41\n",
      "fw_version = \n",
      "    major = 1\n",
      "    minor = 5\n",
      "    debug = 0\n",
      "gain = \n",
      "    mode = high\n",
      "    gain = 8\n",
      "    db   = 18.6697247706422\n",
      "adc = \n",
      "    state                    = True\n",
      "    basic_mode               = rising_edge\n",
      "    timeout                  = 16\n",
      "    offset                   = 0\n",
      "    presamples               = 0\n",
      "    samples                  = 50000000\n",
      "    decimate                 = 1\n",
      "    trig_count               = 33897945\n",
      "    stream_mode              = True\n",
      "    test_mode                = False\n",
      "    bits_per_sample          = 8\n",
      "    segments                 = 1\n",
      "    segment_cycles           = 0\n",
      "    segment_cycle_counter_en = False\n",
      "    clip_errors_disabled     = False\n",
      "    lo_gain_errors_disabled  = False\n",
      "    errors                   = trigger too soon error, \n",
      "clock = \n",
      "    clkgen_src             = system\n",
      "    clkgen_freq            = 8000000.0\n",
      "    adc_mul                = 1\n",
      "    adc_freq               = 8000000.0\n",
      "    freq_ctr               = 0\n",
      "    freq_ctr_src           = extclk\n",
      "    clkgen_locked          = True\n",
      "    adc_phase              = 0\n",
      "    extclk_monitor_enabled = False\n",
      "    extclk_error           = False\n",
      "    extclk_tolerance       = 13096723.705530167\n",
      "trigger = \n",
      "    sequencer_enabled = False\n",
      "    module            = basic\n",
      "    triggers          = tio4\n",
      "io = \n",
      "    tio1            = serial_rx\n",
      "    tio2            = serial_tx\n",
      "    tio3            = high_z\n",
      "    tio4            = high_z\n",
      "    pdid            = high_z\n",
      "    pdic            = high_z\n",
      "    nrst            = high_z\n",
      "    glitch_hp       = False\n",
      "    glitch_lp       = False\n",
      "    extclk_src      = hs1\n",
      "    hs2             = clkgen\n",
      "    target_pwr      = True\n",
      "    tio_states      = (1, 1, 1, 1)\n",
      "    cdc_settings    = bytearray(b'\\x00\\x00\\x00\\x00')\n",
      "    aux_io_mcx      = high_z\n",
      "    glitch_trig_mcx = trigger\n",
      "glitch = \n",
      "    enabled           = False\n",
      "    num_glitches      = 1\n",
      "    clk_src           = target\n",
      "    mmcm_locked       = False\n",
      "    width             = 0\n",
      "    offset            = 0\n",
      "    trigger_src       = manual\n",
      "    arm_timing        = after_scope\n",
      "    ext_offset        = 0\n",
      "    repeat            = 1\n",
      "    output            = clock_xor\n",
      "    phase_shift_steps = 4200\n",
      "SAD = \n",
      "    threshold            = 0\n",
      "    reference            = [0, 0, 0, 0, 0, 0, 0, 0, 0, 0, 0, 0, 0, 0, 0, 0, 0, 0, 0, 0, 0, 0, 0, 0, 0, 0, 0, 0, 0, 0, 0, 0, 0, 0, 0, 0, 0, 0, 0, 0, 0, 0, 0, 0, 0, 0, 0, 0, 0, 0, 0, 0, 0, 0, 0, 0, 0, 0, 0, 0, 0, 0, 0, 0, 0, 0, 0, 0, 0, 0, 0, 0, 0, 0, 0, 0, 0, 0, 0, 0, 0, 0, 0, 0, 0, 0, 0, 0, 0, 0, 0, 0, 0, 0, 0, 0, 0, 0, 0, 0, 0, 0, 0, 0, 0, 0, 0, 0, 0, 0, 0, 0, 0, 0, 0, 0, 0, 0, 0, 0, 0, 0, 0, 0, 0, 0, 0, 0, 0, 0, 0, 0, 0, 0, 0, 0, 0, 0, 0, 0, 0, 0, 0, 0, 0, 0, 0, 0, 0, 0, 0, 0, 0, 0, 0, 0, 0, 0, 0, 0, 0, 0, 0, 0, 0, 0, 0, 0, 0, 0, 0, 0, 0, 0, 0, 0, 0, 0, 0, 0, 0, 0, 0, 0, 0, 0, 0, 0, 0, 0, 0, 0]\n",
      "    sad_reference_length = 192\n",
      "    half_pattern         = False\n",
      "    multiple_triggers    = False\n",
      "    num_triggers_seen    = 0\n",
      "    always_armed         = False\n",
      "ADS4128 = \n",
      "    mode      = normal\n",
      "    low_speed = True\n",
      "    hi_perf   = 2\n",
      "LA = \n",
      "    present                  = True\n",
      "    enabled                  = False\n",
      "    clkgen_enabled           = False\n",
      "    locked                   = False\n",
      "    clk_source               = pll\n",
      "    trigger_source           = glitch\n",
      "    oversampling_factor      = 1\n",
      "    sampling_clock_frequency = 0.0\n",
      "    downsample               = 1\n",
      "    capture_group            = glitch\n",
      "    capture_depth            = 0\n",
      "trace = \n",
      "    present      = True\n",
      "    enabled      = False\n",
      "    errors       = False\n",
      "    trace_synced = False\n",
      "    trace_mode   = parallel\n",
      "    trace_width  = 4\n",
      "    clock = \n",
      "        fe_clock_alive   = True\n",
      "        fe_clock_src     = usb_clock\n",
      "        clkgen_enabled   = False\n",
      "        fe_freq          = 96000000.0\n",
      "        swo_clock_locked = False\n",
      "        swo_clock_freq   = 0.0\n",
      "    capture = \n",
      "        trigger_source         = firmware trigger\n",
      "        use_husky_arm          = False\n",
      "        raw                    = True\n",
      "        rules_enabled          = []\n",
      "        rules                  = []\n",
      "        mode                   = while_trig\n",
      "        count                  = 0\n",
      "        max_triggers           = 1\n",
      "        triggers_generated     = 1\n",
      "        record_syncs           = False\n",
      "        matched_pattern_data   = 0000000000000000\n",
      "        matched_pattern_counts = [0, 0, 0, 0, 0, 0, 0, 0]\n",
      "XADC = \n",
      "    status                               = good\n",
      "    current temperature [C]              = 55.2\n",
      "    maximum temperature [C]              = 56.5\n",
      "    user temperature alarm trigger [C]   = 80.0\n",
      "    user temperature reset trigger [C]   = 59.9\n",
      "    device temperature alarm trigger [C] = 84.9\n",
      "    device temperature reset trigger [C] = 59.9\n",
      "    vccint                               = 1.003\n",
      "    vccaux                               = 1.804\n",
      "    vccbram                              = 1.003\n",
      "userio = \n",
      "    mode            = normal\n",
      "    direction       = 0\n",
      "    drive_data      = 0\n",
      "    status          = 511\n",
      "    Individual pins = \n",
      "        pin D0 = Target-driven, value = 1\n",
      "        pin D1 = Target-driven, value = 1\n",
      "        pin D2 = Target-driven, value = 1\n",
      "        pin D3 = Target-driven, value = 1\n",
      "        pin D4 = Target-driven, value = 1\n",
      "        pin D5 = Target-driven, value = 1\n",
      "        pin D6 = Target-driven, value = 1\n",
      "        pin D7 = Target-driven, value = 1\n",
      "        pin CK = Target-driven, value = 1\n",
      "LEDs = \n",
      "    setting = 0 (default, as labelled)\n",
      "errors = \n",
      "    sam_errors      = False\n",
      "    sam_led_setting = Default\n",
      "    XADC errors     = False\n",
      "    ADC errors      = trigger too soon error, \n",
      "    extclk error    = False\n",
      "    trace errors    = False\n",
      "\n"
     ]
    }
   ],
   "source": [
    "print(scope)"
   ]
  },
  {
   "cell_type": "code",
   "execution_count": 25,
   "id": "5b26595c-6864-49ff-b995-34b78ba62618",
   "metadata": {},
   "outputs": [],
   "source": [
    "scope.arm()"
   ]
  },
  {
   "cell_type": "code",
   "execution_count": 26,
   "id": "4cc78ce0-5aee-425c-832d-e637cb877528",
   "metadata": {},
   "outputs": [
    {
     "data": {
      "text/plain": [
       "False"
      ]
     },
     "execution_count": 26,
     "metadata": {},
     "output_type": "execute_result"
    }
   ],
   "source": [
    "scope.capture()"
   ]
  },
  {
   "cell_type": "code",
   "execution_count": 27,
   "id": "c349fdcf-7eb3-4920-b8f1-94be4cb03ea4",
   "metadata": {},
   "outputs": [
    {
     "data": {
      "text/plain": [
       "sam_errors      = False\n",
       "sam_led_setting = Default\n",
       "XADC errors     = False\n",
       "ADC errors      = trigger too soon error, \n",
       "extclk error    = False\n",
       "trace errors    = False"
      ]
     },
     "execution_count": 27,
     "metadata": {},
     "output_type": "execute_result"
    }
   ],
   "source": [
    "scope.errors"
   ]
  },
  {
   "cell_type": "code",
   "execution_count": 28,
   "id": "e0f1a61a-8b21-49dd-af93-3109c5a175f4",
   "metadata": {},
   "outputs": [
    {
     "data": {
      "image/png": "[encoded data removed]",
      "text/plain": [
       "<Figure size 640x480 with 1 Axes>"
      ]
     },
     "metadata": {},
     "output_type": "display_data"
    }
   ],
   "source": [
    "y_limits = (-0.75, 0.75)\n",
    "plt.plot(scope.get_last_trace())\n",
    "plt.ylim(y_limits)\n",
    "plt.show()"
   ]
  },
  {
   "cell_type": "code",
   "execution_count": null,
   "id": "ef5ad2d4-b072-49a7-9bb4-ceb123a262ef",
   "metadata": {
    "scrolled": true
   },
   "outputs": [],
   "source": [
    "i  = 0\n",
    "y_limits = (-0.75, 0.75)\n",
    "\n",
    "while ( i < 5000):\n",
    "    scope.arm()\n",
    "    scope.capture()\n",
    "    clear_output (wait = True)\n",
    "    plt.plot(scope.get_last_trace())\n",
    "    plt.ylim(y_limits)\n",
    "    plt.show()\n",
    "    i = i + 1\n",
    "    print(i)\n",
    "print(\"Done!\")"
   ]
  },
  {
   "cell_type": "code",
   "execution_count": 16,
   "id": "e79fbcee-8ec6-4bd8-a0ea-9bd7aeb04506",
   "metadata": {},
   "outputs": [
    {
     "data": {
      "text/plain": [
       "True"
      ]
     },
     "execution_count": 16,
     "metadata": {},
     "output_type": "execute_result"
    }
   ],
   "source": [
    "scope.dis()"
   ]
  },
  {
   "cell_type": "code",
   "execution_count": null,
   "id": "9aebac03-6ede-472b-9922-b65c2ce54ee7",
   "metadata": {},
   "outputs": [],
   "source": []
  }
 ],
 "metadata": {
  "kernelspec": {
   "display_name": "Python 3 (ipykernel)",
   "language": "python",
   "name": "python3"
  },
  "language_info": {
   "codemirror_mode": {
    "name": "ipython",
    "version": 3
   },
   "file_extension": ".py",
   "mimetype": "text/x-python",
   "name": "python",
   "nbconvert_exporter": "python",
   "pygments_lexer": "ipython3",
   "version": "3.9.5"
  }
 },
 "nbformat": 4,
 "nbformat_minor": 5
}
