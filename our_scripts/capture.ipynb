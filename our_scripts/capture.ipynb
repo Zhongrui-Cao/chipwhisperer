{
 "cells": [
  {
   "cell_type": "code",
   "execution_count": 1,
   "id": "3abbee97-90df-4a73-afe7-b2a126ca0ba0",
   "metadata": {},
   "outputs": [
    {
     "name": "stdout",
     "output_type": "stream",
     "text": [
      "Hello World!\n"
     ]
    }
   ],
   "source": [
    "###Leo & Ishan\n",
    "###Date: 5th November 2024\n",
    "print(\"Hello World!\")"
   ]
  },
  {
   "cell_type": "code",
   "execution_count": 2,
   "id": "cd70c6f6-1317-4939-bff5-d21157b8d654",
   "metadata": {},
   "outputs": [],
   "source": [
    "import chipwhisperer as cw\n",
    "import matplotlib.pyplot as plt\n",
    "from IPython.display import clear_output\n",
    "import numpy as np\n",
    "\n",
    "# for graphing\n",
    "from bokeh.plotting import figure, show, output_file\n",
    "from bokeh.resources import INLINE\n",
    "from bokeh.io import output_notebook\n",
    "from bokeh.models import Span\n",
    "output_file(\"temp_trace\")\n",
    "\n",
    "import os"
   ]
  },
  {
   "cell_type": "code",
   "execution_count": 19,
   "id": "b1813ae3-1924-4ee9-a3fe-a447fb61c225",
   "metadata": {},
   "outputs": [],
   "source": [
    "scope = cw.scope()"
   ]
  },
  {
   "cell_type": "code",
   "execution_count": 20,
   "id": "ff281b9f",
   "metadata": {},
   "outputs": [
    {
     "name": "stdout",
     "output_type": "stream",
     "text": [
      "scope.gain.mode                          changed from low                       to high                     \n",
      "scope.gain.gain                          changed from 0                         to 22                       \n",
      "scope.gain.db                            changed from 15.0                      to 25.091743119266056       \n",
      "scope.adc.samples                        changed from 131124                    to 5000                     \n",
      "scope.clock.clkgen_freq                  changed from 0                         to 7370129.87012987         \n",
      "scope.clock.adc_freq                     changed from 0                         to 29480519.48051948        \n",
      "scope.clock.extclk_monitor_enabled       changed from True                      to False                    \n",
      "scope.clock.extclk_tolerance             changed from 1144409.1796875           to 13096723.705530167       \n",
      "scope.io.tio1                            changed from serial_tx                 to serial_rx                \n",
      "scope.io.tio2                            changed from serial_rx                 to serial_tx                \n",
      "scope.io.hs2                             changed from None                      to clkgen                   \n",
      "scope.io.cdc_settings                    changed from bytearray(b'\\x01\\x00\\x00\\x00') to bytearray(b'\\x00\\x00\\x00\\x00')\n",
      "scope.glitch.phase_shift_steps           changed from 0                         to 4592                     \n",
      "scope.trace.capture.trigger_source       changed from trace trigger, rule #0    to firmware trigger         \n"
     ]
    }
   ],
   "source": [
    "scope.default_setup()"
   ]
  },
  {
   "cell_type": "code",
   "execution_count": 23,
   "id": "9aadfb48-a9ea-48cc-94f2-9b0954241455",
   "metadata": {},
   "outputs": [],
   "source": [
    "# scope.adc.decimate = 5\n",
    "scope.adc.stream_mode = True\n",
    "scope.adc.timeout = 20\n",
    "# scope.adc.samples = 131070 # is this the max for buffer, anything higher needs streaming\n",
    "scope.adc.samples = 8_000_000 \n",
    "scope.adc.bits_per_sample = 8\n",
    "scope.clock.adc_mul = 1\n",
    "scope.clock.clkgen_freq = 8_000_000\n",
    "scope.gain.gain = 0"
   ]
  },
  {
   "cell_type": "code",
   "execution_count": 24,
   "id": "7e4af30b-7c82-405b-902c-4c2ebba49cd3",
   "metadata": {},
   "outputs": [
    {
     "name": "stdout",
     "output_type": "stream",
     "text": [
      "sample rate is: 8.0 MHz\n",
      "sampling time is: 1.0 seconds\n"
     ]
    }
   ],
   "source": [
    "print(\"sample rate is:\", scope.clock.adc_mul * scope.clock.clkgen_freq / 1_000_000, \"MHz\")\n",
    "print(\"sampling time is:\", scope.adc.samples / (scope.clock.adc_mul * scope.clock.clkgen_freq), \"seconds\")"
   ]
  },
  {
   "cell_type": "code",
   "execution_count": 25,
   "id": "6e1b92e7",
   "metadata": {},
   "outputs": [],
   "source": [
    "scope.trigger.module = 'ADC'\n",
    "scope.trigger.level = 0"
   ]
  },
  {
   "cell_type": "code",
   "execution_count": 26,
   "id": "defbbc80",
   "metadata": {
    "scrolled": true
   },
   "outputs": [],
   "source": [
    "# print(scope)"
   ]
  },
  {
   "cell_type": "code",
   "execution_count": 27,
   "id": "4cc78ce0-5aee-425c-832d-e637cb877528",
   "metadata": {},
   "outputs": [],
   "source": [
    "num_captures = 100\n",
    "capture_dir = \"/media/jobs/Elements/captures/\"\n",
    "capture_name = \"screen_off_idle\"\n",
    "\n",
    "for i in range(0, num_captures):\n",
    "    scope.arm()\n",
    "    if scope.capture():\n",
    "        print(\"err\")\n",
    "    outfile = capture_dir + capture_name + \"_\" + str(i)\n",
    "    np.save(outfile, scope.get_last_trace())"
   ]
  },
  {
   "cell_type": "code",
   "execution_count": 18,
   "id": "c349fdcf-7eb3-4920-b8f1-94be4cb03ea4",
   "metadata": {
    "scrolled": true
   },
   "outputs": [
    {
     "name": "stderr",
     "output_type": "stream",
     "text": [
      "(ChipWhisperer Scope WARNING|File _OpenADCInterface.py:206) Internal error: in fast read mode but not reading FIFO! (address=43).\n",
      "(ChipWhisperer Scope WARNING|File _OpenADCInterface.py:207) This happens when attempting to access (read or write) some Husky FPGA setting after the\n",
      "(ChipWhisperer Scope WARNING|File _OpenADCInterface.py:208) ADC sample FIFO read has been set up; in stream mode, this is done when scope.arm() is called.\n",
      "(ChipWhisperer Scope WARNING|File _OpenADCInterface.py:209) If this happens to you as a user: access scope.* settings before calling scope.arm(), not after.\n",
      "(ChipWhisperer Scope WARNING|File _OpenADCInterface.py:210) If this happens to you as a developer, you can resolve this by caching the setting you need.\n",
      "(ChipWhisperer Scope WARNING|File _OpenADCInterface.py:211) The error trace below will show you what led to this:\n"
     ]
    },
    {
     "ename": "ValueError",
     "evalue": "",
     "output_type": "error",
     "traceback": [
      "\u001b[0;31m---------------------------------------------------------------------------\u001b[0m",
      "\u001b[0;31mValueError\u001b[0m                                Traceback (most recent call last)",
      "Cell \u001b[0;32mIn[18], line 1\u001b[0m\n\u001b[0;32m----> 1\u001b[0m \u001b[38;5;28;43mprint\u001b[39;49m\u001b[43m(\u001b[49m\u001b[43mscope\u001b[49m\u001b[38;5;241;43m.\u001b[39;49m\u001b[43merrors\u001b[49m\u001b[43m)\u001b[49m\n\u001b[1;32m      2\u001b[0m scope\u001b[38;5;241m.\u001b[39merrors\u001b[38;5;241m.\u001b[39mclear()\n\u001b[1;32m      3\u001b[0m \u001b[38;5;28mprint\u001b[39m(scope\u001b[38;5;241m.\u001b[39merrors)\n",
      "File \u001b[0;32m~/Desktop/wake_word_power/chipwhisperer/software/chipwhisperer/capture/scopes/cwhardware/ChipWhispererHuskyMisc.py:305\u001b[0m, in \u001b[0;36mHuskyErrors.__str__\u001b[0;34m(self)\u001b[0m\n\u001b[1;32m    304\u001b[0m \u001b[38;5;28;01mdef\u001b[39;00m \u001b[38;5;21m__str__\u001b[39m(\u001b[38;5;28mself\u001b[39m):\n\u001b[0;32m--> 305\u001b[0m     \u001b[38;5;28;01mreturn\u001b[39;00m \u001b[38;5;28;43mself\u001b[39;49m\u001b[38;5;241;43m.\u001b[39;49m\u001b[38;5;21;43m__repr__\u001b[39;49m\u001b[43m(\u001b[49m\u001b[43m)\u001b[49m\n",
      "File \u001b[0;32m~/Desktop/wake_word_power/chipwhisperer/software/chipwhisperer/capture/scopes/cwhardware/ChipWhispererHuskyMisc.py:302\u001b[0m, in \u001b[0;36mHuskyErrors.__repr__\u001b[0;34m(self)\u001b[0m\n\u001b[1;32m    301\u001b[0m \u001b[38;5;28;01mdef\u001b[39;00m \u001b[38;5;21m__repr__\u001b[39m(\u001b[38;5;28mself\u001b[39m):\n\u001b[0;32m--> 302\u001b[0m     \u001b[38;5;28;01mreturn\u001b[39;00m util\u001b[38;5;241m.\u001b[39mdict_to_str(\u001b[38;5;28;43mself\u001b[39;49m\u001b[38;5;241;43m.\u001b[39;49m\u001b[43m_dict_repr\u001b[49m\u001b[43m(\u001b[49m\u001b[43m)\u001b[49m)\n",
      "File \u001b[0;32m~/Desktop/wake_word_power/chipwhisperer/software/chipwhisperer/capture/scopes/cwhardware/ChipWhispererHuskyMisc.py:295\u001b[0m, in \u001b[0;36mHuskyErrors._dict_repr\u001b[0;34m(self)\u001b[0m\n\u001b[1;32m    293\u001b[0m \u001b[38;5;28;01mdef\u001b[39;00m \u001b[38;5;21m_dict_repr\u001b[39m(\u001b[38;5;28mself\u001b[39m):\n\u001b[1;32m    294\u001b[0m     rtn \u001b[38;5;241m=\u001b[39m \u001b[38;5;28msuper\u001b[39m()\u001b[38;5;241m.\u001b[39m_dict_repr()\n\u001b[0;32m--> 295\u001b[0m     rtn[\u001b[38;5;124m'\u001b[39m\u001b[38;5;124mXADC errors\u001b[39m\u001b[38;5;124m'\u001b[39m] \u001b[38;5;241m=\u001b[39m \u001b[38;5;28;43mself\u001b[39;49m\u001b[38;5;241;43m.\u001b[39;49m\u001b[43mXADC\u001b[49m\u001b[38;5;241;43m.\u001b[39;49m\u001b[43merrors\u001b[49m\u001b[43m(\u001b[49m\u001b[43m)\u001b[49m\n\u001b[1;32m    296\u001b[0m     rtn[\u001b[38;5;124m'\u001b[39m\u001b[38;5;124mADC errors\u001b[39m\u001b[38;5;124m'\u001b[39m] \u001b[38;5;241m=\u001b[39m \u001b[38;5;28mself\u001b[39m\u001b[38;5;241m.\u001b[39madc\u001b[38;5;241m.\u001b[39merrors\n\u001b[1;32m    297\u001b[0m     rtn[\u001b[38;5;124m'\u001b[39m\u001b[38;5;124mextclk error\u001b[39m\u001b[38;5;124m'\u001b[39m] \u001b[38;5;241m=\u001b[39m \u001b[38;5;28mself\u001b[39m\u001b[38;5;241m.\u001b[39mclock\u001b[38;5;241m.\u001b[39mextclk_error\n",
      "File \u001b[0;32m~/Desktop/wake_word_power/chipwhisperer/software/chipwhisperer/capture/scopes/cwhardware/ChipWhispererHuskyMisc.py:731\u001b[0m, in \u001b[0;36mXADCSettings.errors\u001b[0;34m(self)\u001b[0m\n\u001b[1;32m    730\u001b[0m \u001b[38;5;28;01mdef\u001b[39;00m \u001b[38;5;21merrors\u001b[39m(\u001b[38;5;28mself\u001b[39m):\n\u001b[0;32m--> 731\u001b[0m     \u001b[38;5;28;01mif\u001b[39;00m \u001b[38;5;28;43mself\u001b[39;49m\u001b[38;5;241;43m.\u001b[39;49m\u001b[43mstatus\u001b[49m \u001b[38;5;241m==\u001b[39m \u001b[38;5;124m'\u001b[39m\u001b[38;5;124mgood\u001b[39m\u001b[38;5;124m'\u001b[39m:\n\u001b[1;32m    732\u001b[0m         \u001b[38;5;28;01mreturn\u001b[39;00m \u001b[38;5;28;01mFalse\u001b[39;00m\n\u001b[1;32m    733\u001b[0m     \u001b[38;5;28;01melse\u001b[39;00m:\n",
      "File \u001b[0;32m~/Desktop/wake_word_power/chipwhisperer/software/chipwhisperer/capture/scopes/cwhardware/ChipWhispererHuskyMisc.py:715\u001b[0m, in \u001b[0;36mXADCSettings.status\u001b[0;34m(self)\u001b[0m\n\u001b[1;32m    708\u001b[0m \u001b[38;5;129m@property\u001b[39m\n\u001b[1;32m    709\u001b[0m \u001b[38;5;28;01mdef\u001b[39;00m \u001b[38;5;21mstatus\u001b[39m(\u001b[38;5;28mself\u001b[39m):\n\u001b[1;32m    710\u001b[0m \u001b[38;5;250m    \u001b[39m\u001b[38;5;124;03m\"\"\"Read XADC alarm status bits\u001b[39;00m\n\u001b[1;32m    711\u001b[0m \u001b[38;5;124;03m    :Getter: Returns status string.\u001b[39;00m\n\u001b[1;32m    712\u001b[0m \n\u001b[1;32m    713\u001b[0m \u001b[38;5;124;03m    :Setter: Clear the status error bits (they are sticky).\u001b[39;00m\n\u001b[1;32m    714\u001b[0m \u001b[38;5;124;03m    \"\"\"\u001b[39;00m\n\u001b[0;32m--> 715\u001b[0m     raw \u001b[38;5;241m=\u001b[39m \u001b[38;5;28;43mself\u001b[39;49m\u001b[38;5;241;43m.\u001b[39;49m\u001b[43moa\u001b[49m\u001b[38;5;241;43m.\u001b[39;49m\u001b[43msendMessage\u001b[49m\u001b[43m(\u001b[49m\u001b[43mCODE_READ\u001b[49m\u001b[43m,\u001b[49m\u001b[43m \u001b[49m\u001b[38;5;124;43m\"\u001b[39;49m\u001b[38;5;124;43mXADC_STAT\u001b[39;49m\u001b[38;5;124;43m\"\u001b[39;49m\u001b[43m,\u001b[49m\u001b[43m \u001b[49m\u001b[43mmaxResp\u001b[49m\u001b[38;5;241;43m=\u001b[39;49m\u001b[38;5;241;43m1\u001b[39;49m\u001b[43m)\u001b[49m[\u001b[38;5;241m0\u001b[39m]\n\u001b[1;32m    716\u001b[0m     stat \u001b[38;5;241m=\u001b[39m \u001b[38;5;124m'\u001b[39m\u001b[38;5;124m'\u001b[39m\n\u001b[1;32m    717\u001b[0m     \u001b[38;5;28;01mif\u001b[39;00m raw \u001b[38;5;241m&\u001b[39m \u001b[38;5;241m1\u001b[39m:  stat \u001b[38;5;241m+\u001b[39m\u001b[38;5;241m=\u001b[39m \u001b[38;5;124m'\u001b[39m\u001b[38;5;124mOver temperature alarm, \u001b[39m\u001b[38;5;124m'\u001b[39m\n",
      "File \u001b[0;32m~/Desktop/wake_word_power/chipwhisperer/software/chipwhisperer/capture/scopes/_OpenADCInterface.py:290\u001b[0m, in \u001b[0;36mOpenADCInterface.sendMessage\u001b[0;34m(self, mode, address, payload, Validate, maxResp, readMask)\u001b[0m\n\u001b[1;32m    288\u001b[0m address \u001b[38;5;241m=\u001b[39m \u001b[38;5;28mself\u001b[39m\u001b[38;5;241m.\u001b[39m_address_str2int(address)\n\u001b[1;32m    289\u001b[0m \u001b[38;5;28;01mif\u001b[39;00m mode \u001b[38;5;241m!=\u001b[39m CODE_WRITE:\n\u001b[0;32m--> 290\u001b[0m     \u001b[38;5;28;01mreturn\u001b[39;00m \u001b[38;5;28;43mself\u001b[39;49m\u001b[38;5;241;43m.\u001b[39;49m\u001b[43mmsg_read\u001b[49m\u001b[43m(\u001b[49m\u001b[43maddress\u001b[49m\u001b[43m,\u001b[49m\u001b[43m \u001b[49m\u001b[43mmaxResp\u001b[49m\u001b[43m)\u001b[49m\n\u001b[1;32m    291\u001b[0m \u001b[38;5;28mself\u001b[39m\u001b[38;5;241m.\u001b[39mmsg_write(address, payload)\n\u001b[1;32m    292\u001b[0m \u001b[38;5;28;01mif\u001b[39;00m Validate:\n",
      "File \u001b[0;32m~/Desktop/wake_word_power/chipwhisperer/software/chipwhisperer/capture/scopes/_OpenADCInterface.py:212\u001b[0m, in \u001b[0;36mOpenADCInterface.msg_read\u001b[0;34m(self, address, max_resp)\u001b[0m\n\u001b[1;32m    210\u001b[0m         scope_logger\u001b[38;5;241m.\u001b[39mwarning(\u001b[38;5;124m\"\u001b[39m\u001b[38;5;124mIf this happens to you as a developer, you can resolve this by caching the setting you need.\u001b[39m\u001b[38;5;124m\"\u001b[39m)\n\u001b[1;32m    211\u001b[0m         scope_logger\u001b[38;5;241m.\u001b[39mwarning(\u001b[38;5;124m\"\u001b[39m\u001b[38;5;124mThe error trace below will show you what led to this:\u001b[39m\u001b[38;5;124m\"\u001b[39m)\n\u001b[0;32m--> 212\u001b[0m         \u001b[38;5;28;01mraise\u001b[39;00m \u001b[38;5;167;01mValueError\u001b[39;00m\n\u001b[1;32m    214\u001b[0m     data \u001b[38;5;241m=\u001b[39m \u001b[38;5;28mself\u001b[39m\u001b[38;5;241m.\u001b[39mserial\u001b[38;5;241m.\u001b[39mcmdReadMem(address, max_resp)\n\u001b[1;32m    215\u001b[0m \u001b[38;5;28;01melse\u001b[39;00m:\n",
      "\u001b[0;31mValueError\u001b[0m: "
     ]
    }
   ],
   "source": [
    "print(scope.errors)\n",
    "scope.errors.clear()\n",
    "print(scope.errors)"
   ]
  },
  {
   "cell_type": "code",
   "execution_count": 171,
   "id": "1275247b",
   "metadata": {},
   "outputs": [
    {
     "data": {
      "text/plain": [
       "50000000"
      ]
     },
     "execution_count": 171,
     "metadata": {},
     "output_type": "execute_result"
    }
   ],
   "source": [
    "last_trace = scope.get_last_trace()\n",
    "len(last_trace)"
   ]
  },
  {
   "cell_type": "code",
   "execution_count": 183,
   "id": "65efcd16",
   "metadata": {
    "scrolled": true
   },
   "outputs": [
    {
     "data": {
      "text/plain": [
       "array([-0.0078125 ,  0.00390625,  0.        , ..., -0.00390625,\n",
       "       -0.015625  , -0.0234375 ])"
      ]
     },
     "execution_count": 183,
     "metadata": {},
     "output_type": "execute_result"
    }
   ],
   "source": [
    "last_trace"
   ]
  },
  {
   "cell_type": "code",
   "execution_count": 173,
   "id": "335a40b9",
   "metadata": {},
   "outputs": [
    {
     "name": "stdout",
     "output_type": "stream",
     "text": [
      "getting 100,000 number of points\n"
     ]
    }
   ],
   "source": [
    "# averaging\n",
    "window_size = 500\n",
    "num_points = len(last_trace) // window_size\n",
    "print(\"getting\", f\"{num_points:,}\", \"number of points\")\n",
    "# 1 million seems to be the plotting limit"
   ]
  },
  {
   "cell_type": "code",
   "execution_count": 174,
   "id": "0635ee6f-0832-4f51-a3e0-ab623b73f17b",
   "metadata": {},
   "outputs": [],
   "source": [
    "averaged_trace = [\n",
    "    np.mean(last_trace[i * window_size:(i + 1) * window_size])\n",
    "    for i in range(num_points)\n",
    "]\n",
    "xrange_averaged = list(range(num_points))"
   ]
  },
  {
   "cell_type": "code",
   "execution_count": null,
   "id": "f3b23e41-b43a-4cc3-9b6c-0c7386d349b2",
   "metadata": {},
   "outputs": [],
   "source": [
    "# plot figure\n",
    "o = figure(width=5000)\n",
    "O = o.line(xrange_averaged, averaged_trace)\n",
    "show(o)"
   ]
  },
  {
   "cell_type": "code",
   "execution_count": 50,
   "id": "7dd73720-05de-4c70-9243-abfee9313d55",
   "metadata": {},
   "outputs": [],
   "source": [
    "# Delete the traces to save memory\n",
    "if 'last_trace' in locals():\n",
    "    del last_trace\n",
    "if 'averaged_trace' in locals():\n",
    "    del averaged_trace\n",
    "if 'o' in locals():\n",
    "    del o"
   ]
  },
  {
   "cell_type": "code",
   "execution_count": 181,
   "id": "02a7b3cb-3daa-47d1-854f-01362d45304f",
   "metadata": {},
   "outputs": [],
   "source": [
    "# plotting the beginning\n",
    "o = figure(width=5000)\n",
    "O = o.line(list(range(0, 1000000)), last_trace[0:1000000])\n",
    "show(o)"
   ]
  },
  {
   "cell_type": "code",
   "execution_count": 375,
   "id": "1fc0e80b",
   "metadata": {
    "scrolled": true
   },
   "outputs": [],
   "source": [
    "# Downsampling\n",
    "o = figure(width=15000)\n",
    "\n",
    "n = 100\n",
    "downsampled = last_trace[::n]  # Take every nth point\n",
    "\n",
    "xrange = list(range(len(downsampled)))\n",
    "O = o.line(xrange, downsampled)\n",
    "show(o)"
   ]
  },
  {
   "cell_type": "code",
   "execution_count": 195,
   "id": "e79fbcee-8ec6-4bd8-a0ea-9bd7aeb04506",
   "metadata": {},
   "outputs": [
    {
     "data": {
      "text/plain": [
       "True"
      ]
     },
     "execution_count": 195,
     "metadata": {},
     "output_type": "execute_result"
    }
   ],
   "source": [
    "scope.dis()"
   ]
  },
  {
   "cell_type": "code",
   "execution_count": null,
   "id": "c9fd4cf4",
   "metadata": {},
   "outputs": [],
   "source": []
  }
 ],
 "metadata": {
  "kernelspec": {
   "display_name": "Python 3 (ipykernel)",
   "language": "python",
   "name": "python3"
  },
  "language_info": {
   "codemirror_mode": {
    "name": "ipython",
    "version": 3
   },
   "file_extension": ".py",
   "mimetype": "text/x-python",
   "name": "python",
   "nbconvert_exporter": "python",
   "pygments_lexer": "ipython3",
   "version": "3.9.5"
  }
 },
 "nbformat": 4,
 "nbformat_minor": 5
}
