{
 "cells": [
  {
   "cell_type": "code",
   "execution_count": 1,
   "id": "3abbee97-90df-4a73-afe7-b2a126ca0ba0",
   "metadata": {},
   "outputs": [
    {
     "name": "stdout",
     "output_type": "stream",
     "text": [
      "Hello World!\n"
     ]
    }
   ],
   "source": [
    "###Leo & Ishan\n",
    "###Date: 5th November 2024\n",
    "print(\"Hello World!\")"
   ]
  },
  {
   "cell_type": "code",
   "execution_count": 1,
   "id": "cd70c6f6-1317-4939-bff5-d21157b8d654",
   "metadata": {},
   "outputs": [],
   "source": [
    "import chipwhisperer as cw\n",
    "import matplotlib.pyplot as plt\n",
    "from IPython.display import clear_output\n",
    "import numpy as np\n",
    "\n",
    "# for graphing\n",
    "from bokeh.plotting import figure, show, output_file\n",
    "from bokeh.resources import INLINE\n",
    "from bokeh.io import output_notebook\n",
    "from bokeh.models import Span\n",
    "output_file(\"temp_trace\")\n",
    "\n",
    "import os\n",
    "from playsound import playsound\n",
    "import time\n",
    "import multiprocessing\n",
    "import random"
   ]
  },
  {
   "cell_type": "code",
   "execution_count": 22,
   "id": "b1813ae3-1924-4ee9-a3fe-a447fb61c225",
   "metadata": {},
   "outputs": [],
   "source": [
    "scope = cw.scope()"
   ]
  },
  {
   "cell_type": "code",
   "execution_count": 23,
   "id": "ff281b9f",
   "metadata": {},
   "outputs": [
    {
     "name": "stdout",
     "output_type": "stream",
     "text": [
      "scope.gain.mode                          changed from low                       to high                     \n",
      "scope.gain.gain                          changed from 0                         to 22                       \n",
      "scope.gain.db                            changed from 15.0                      to 25.091743119266056       \n",
      "scope.adc.samples                        changed from 131124                    to 5000                     \n",
      "scope.clock.clkgen_freq                  changed from 0                         to 7370129.87012987         \n",
      "scope.clock.adc_freq                     changed from 0                         to 29480519.48051948        \n",
      "scope.clock.extclk_monitor_enabled       changed from True                      to False                    \n",
      "scope.clock.extclk_tolerance             changed from 1144409.1796875           to 13096723.705530167       \n",
      "scope.io.tio1                            changed from serial_tx                 to serial_rx                \n",
      "scope.io.tio2                            changed from serial_rx                 to serial_tx                \n",
      "scope.io.hs2                             changed from None                      to clkgen                   \n",
      "scope.io.cdc_settings                    changed from bytearray(b'\\x01\\x00\\x00\\x00') to bytearray(b'\\x00\\x00\\x00\\x00')\n",
      "scope.glitch.phase_shift_steps           changed from 0                         to 4592                     \n",
      "scope.trace.capture.trigger_source       changed from trace trigger, rule #0    to firmware trigger         \n"
     ]
    }
   ],
   "source": [
    "scope.default_setup()"
   ]
  },
  {
   "cell_type": "code",
   "execution_count": 24,
   "id": "9aadfb48-a9ea-48cc-94f2-9b0954241455",
   "metadata": {},
   "outputs": [],
   "source": [
    "# scope.adc.decimate = 5\n",
    "scope.adc.stream_mode = True\n",
    "scope.adc.timeout = 100\n",
    "# scope.adc.samples = 131_070 # is this the max for buffer, anything higher needs streaming\n",
    "scope.adc.bits_per_sample = 8\n",
    "scope.clock.adc_mul = 1\n",
    "\n",
    "sample_time = 4\n",
    "sample_freq = 15_000_000\n",
    "scope.clock.clkgen_freq = sample_freq\n",
    "scope.adc.samples = int(sample_time * sample_freq)\n",
    "scope.gain.gain = 0"
   ]
  },
  {
   "cell_type": "code",
   "execution_count": 25,
   "id": "7e4af30b-7c82-405b-902c-4c2ebba49cd3",
   "metadata": {},
   "outputs": [
    {
     "name": "stdout",
     "output_type": "stream",
     "text": [
      "sample rate is: 15.0 MHz\n",
      "sampling time is: 4.0 seconds\n"
     ]
    }
   ],
   "source": [
    "print(\"sample rate is:\", scope.clock.adc_mul * scope.clock.clkgen_freq / 1_000_000, \"MHz\")\n",
    "print(\"sampling time is:\", scope.adc.samples / (scope.clock.adc_mul * scope.clock.clkgen_freq), \"seconds\")"
   ]
  },
  {
   "cell_type": "code",
   "execution_count": 26,
   "id": "6e1b92e7",
   "metadata": {},
   "outputs": [],
   "source": [
    "scope.trigger.module = 'ADC'\n",
    "scope.trigger.level = 0"
   ]
  },
  {
   "cell_type": "code",
   "execution_count": 27,
   "id": "defbbc80",
   "metadata": {
    "scrolled": true
   },
   "outputs": [
    {
     "name": "stdout",
     "output_type": "stream",
     "text": [
      "cwhusky Device\n",
      "sn             = 50203220325531583130353234323032\n",
      "fpga_buildtime = 4/11/2024, 09:41\n",
      "fw_version = \n",
      "    major = 1\n",
      "    minor = 5\n",
      "    debug = 0\n",
      "gain = \n",
      "    mode = high\n",
      "    gain = 0\n",
      "    db   = 15.0\n",
      "adc = \n",
      "    state                    = False\n",
      "    basic_mode               = rising_edge\n",
      "    timeout                  = 100\n",
      "    offset                   = 0\n",
      "    presamples               = 0\n",
      "    samples                  = 60000000\n",
      "    decimate                 = 1\n",
      "    trig_count               = 0\n",
      "    stream_mode              = True\n",
      "    test_mode                = False\n",
      "    bits_per_sample          = 8\n",
      "    segments                 = 1\n",
      "    segment_cycles           = 0\n",
      "    segment_cycle_counter_en = False\n",
      "    clip_errors_disabled     = False\n",
      "    lo_gain_errors_disabled  = False\n",
      "    errors                   = False\n",
      "clock = \n",
      "    clkgen_src             = system\n",
      "    clkgen_freq            = 15000000.0\n",
      "    adc_mul                = 1\n",
      "    adc_freq               = 15000000.0\n",
      "    freq_ctr               = 0\n",
      "    freq_ctr_src           = extclk\n",
      "    clkgen_locked          = True\n",
      "    adc_phase              = 0\n",
      "    extclk_monitor_enabled = False\n",
      "    extclk_error           = False\n",
      "    extclk_tolerance       = 13096723.705530167\n",
      "trigger = \n",
      "    sequencer_enabled = False\n",
      "    module            = ADC\n",
      "    level             = 0.0\n",
      "io = \n",
      "    tio1            = serial_rx\n",
      "    tio2            = serial_tx\n",
      "    tio3            = high_z\n",
      "    tio4            = high_z\n",
      "    pdid            = high_z\n",
      "    pdic            = high_z\n",
      "    nrst            = high_z\n",
      "    glitch_hp       = False\n",
      "    glitch_lp       = False\n",
      "    extclk_src      = hs1\n",
      "    hs2             = clkgen\n",
      "    target_pwr      = True\n",
      "    tio_states      = (1, 1, 1, 0)\n",
      "    cdc_settings    = bytearray(b'\\x00\\x00\\x00\\x00')\n",
      "    aux_io_mcx      = high_z\n",
      "    glitch_trig_mcx = trigger\n",
      "glitch = \n",
      "    enabled           = False\n",
      "    num_glitches      = 1\n",
      "    clk_src           = target\n",
      "    mmcm_locked       = False\n",
      "    width             = 0\n",
      "    offset            = 0\n",
      "    trigger_src       = manual\n",
      "    arm_timing        = after_scope\n",
      "    ext_offset        = 0\n",
      "    repeat            = 1\n",
      "    output            = clock_xor\n",
      "    phase_shift_steps = 2240\n",
      "SAD = \n",
      "    threshold            = 0\n",
      "    reference            = [0, 0, 0, 0, 0, 0, 0, 0, 0, 0, 0, 0, 0, 0, 0, 0, 0, 0, 0, 0, 0, 0, 0, 0, 0, 0, 0, 0, 0, 0, 0, 0, 0, 0, 0, 0, 0, 0, 0, 0, 0, 0, 0, 0, 0, 0, 0, 0, 0, 0, 0, 0, 0, 0, 0, 0, 0, 0, 0, 0, 0, 0, 0, 0, 0, 0, 0, 0, 0, 0, 0, 0, 0, 0, 0, 0, 0, 0, 0, 0, 0, 0, 0, 0, 0, 0, 0, 0, 0, 0, 0, 0, 0, 0, 0, 0, 0, 0, 0, 0, 0, 0, 0, 0, 0, 0, 0, 0, 0, 0, 0, 0, 0, 0, 0, 0, 0, 0, 0, 0, 0, 0, 0, 0, 0, 0, 0, 0, 0, 0, 0, 0, 0, 0, 0, 0, 0, 0, 0, 0, 0, 0, 0, 0, 0, 0, 0, 0, 0, 0, 0, 0, 0, 0, 0, 0, 0, 0, 0, 0, 0, 0, 0, 0, 0, 0, 0, 0, 0, 0, 0, 0, 0, 0, 0, 0, 0, 0, 0, 0, 0, 0, 0, 0, 0, 0, 0, 0, 0, 0, 0, 0]\n",
      "    sad_reference_length = 192\n",
      "    half_pattern         = False\n",
      "    multiple_triggers    = False\n",
      "    num_triggers_seen    = 0\n",
      "    always_armed         = False\n",
      "ADS4128 = \n",
      "    mode      = normal\n",
      "    low_speed = True\n",
      "    hi_perf   = 2\n",
      "LA = \n",
      "    present                  = True\n",
      "    enabled                  = False\n",
      "    clkgen_enabled           = False\n",
      "    locked                   = False\n",
      "    clk_source               = pll\n",
      "    trigger_source           = glitch\n",
      "    oversampling_factor      = 1\n",
      "    sampling_clock_frequency = 0.0\n",
      "    downsample               = 1\n",
      "    capture_group            = glitch\n",
      "    capture_depth            = 0\n",
      "trace = \n",
      "    present      = True\n",
      "    enabled      = False\n",
      "    errors       = False\n",
      "    trace_synced = False\n",
      "    trace_mode   = parallel\n",
      "    trace_width  = 4\n",
      "    clock = \n",
      "        fe_clock_alive   = True\n",
      "        fe_clock_src     = usb_clock\n",
      "        clkgen_enabled   = False\n",
      "        fe_freq          = 96000000.0\n",
      "        swo_clock_locked = False\n",
      "        swo_clock_freq   = 0.0\n",
      "    capture = \n",
      "        trigger_source         = firmware trigger\n",
      "        use_husky_arm          = False\n",
      "        raw                    = True\n",
      "        rules_enabled          = []\n",
      "        rules                  = []\n",
      "        mode                   = while_trig\n",
      "        count                  = 0\n",
      "        max_triggers           = 1\n",
      "        triggers_generated     = 0\n",
      "        record_syncs           = False\n",
      "        matched_pattern_data   = 0000000000000000\n",
      "        matched_pattern_counts = [0, 0, 0, 0, 0, 0, 0, 0]\n",
      "XADC = \n",
      "    status                               = good\n",
      "    current temperature [C]              = 43.2\n",
      "    maximum temperature [C]              = 44.8\n",
      "    user temperature alarm trigger [C]   = 80.0\n",
      "    user temperature reset trigger [C]   = 59.9\n",
      "    device temperature alarm trigger [C] = 84.9\n",
      "    device temperature reset trigger [C] = 59.9\n",
      "    vccint                               = 1.000\n",
      "    vccaux                               = 1.801\n",
      "    vccbram                              = 1.004\n",
      "userio = \n",
      "    mode            = normal\n",
      "    direction       = 0\n",
      "    drive_data      = 0\n",
      "    status          = 511\n",
      "    Individual pins = \n",
      "        pin D0 = Target-driven, value = 1\n",
      "        pin D1 = Target-driven, value = 1\n",
      "        pin D2 = Target-driven, value = 1\n",
      "        pin D3 = Target-driven, value = 1\n",
      "        pin D4 = Target-driven, value = 1\n",
      "        pin D5 = Target-driven, value = 1\n",
      "        pin D6 = Target-driven, value = 1\n",
      "        pin D7 = Target-driven, value = 1\n",
      "        pin CK = Target-driven, value = 1\n",
      "LEDs = \n",
      "    setting = 0 (default, as labelled)\n",
      "errors = \n",
      "    sam_errors      = False\n",
      "    sam_led_setting = Default\n",
      "    XADC errors     = False\n",
      "    ADC errors      = False\n",
      "    extclk error    = False\n",
      "    trace errors    = False\n",
      "\n"
     ]
    }
   ],
   "source": [
    "print(scope)"
   ]
  },
  {
   "cell_type": "code",
   "execution_count": 28,
   "id": "79638df8-87b0-42f5-98db-3fb8222d6ea5",
   "metadata": {},
   "outputs": [],
   "source": [
    "playsound(os.getcwd() + '/audio/trump_wake_word_delay.wav', False)"
   ]
  },
  {
   "cell_type": "code",
   "execution_count": 9,
   "id": "4cc78ce0-5aee-425c-832d-e637cb877528",
   "metadata": {},
   "outputs": [],
   "source": [
    "num_captures = 25\n",
    "capture_dir = \"./captures/\"\n",
    "capture_name = \"trump_wake_word_test\"\n",
    "\n",
    "def capture_trace(scope):\n",
    "    scope.arm()\n",
    "    scope.capture()\n",
    "    outfile = capture_dir + capture_name + \"_\" + str(i)\n",
    "    np.save(outfile, scope.get_last_trace())\n",
    "\n",
    "for i in range(0, num_captures):\n",
    "    \n",
    "    capture_process = multiprocessing.Process(\n",
    "        target=capture_trace, \n",
    "        args=(scope,)\n",
    "    )\n",
    "    \n",
    "    capture_process.start()\n",
    "    time.sleep(1)\n",
    "    playsound(os.getcwd() + '/audio/trump_wake_word.wav')\n",
    "    capture_process.join()"
   ]
  },
  {
   "cell_type": "code",
   "execution_count": 29,
   "id": "f65b373b-35e5-4f38-82a9-49fcd817ceb2",
   "metadata": {},
   "outputs": [
    {
     "ename": "KeyboardInterrupt",
     "evalue": "",
     "output_type": "error",
     "traceback": [
      "\u001b[0;31m---------------------------------------------------------------------------\u001b[0m",
      "\u001b[0;31mKeyboardInterrupt\u001b[0m                         Traceback (most recent call last)",
      "Cell \u001b[0;32mIn[29], line 11\u001b[0m\n\u001b[1;32m      9\u001b[0m scope\u001b[38;5;241m.\u001b[39marm()\n\u001b[1;32m     10\u001b[0m playsound(os\u001b[38;5;241m.\u001b[39mgetcwd() \u001b[38;5;241m+\u001b[39m \u001b[38;5;124m'\u001b[39m\u001b[38;5;124m/audio/trump_wake_word_delay.wav\u001b[39m\u001b[38;5;124m'\u001b[39m, \u001b[38;5;28;01mFalse\u001b[39;00m)\n\u001b[0;32m---> 11\u001b[0m \u001b[43mscope\u001b[49m\u001b[38;5;241;43m.\u001b[39;49m\u001b[43mcapture\u001b[49m\u001b[43m(\u001b[49m\u001b[43m)\u001b[49m\n\u001b[1;32m     12\u001b[0m outfile \u001b[38;5;241m=\u001b[39m capture_dir \u001b[38;5;241m+\u001b[39m capture_name \u001b[38;5;241m+\u001b[39m \u001b[38;5;124m\"\u001b[39m\u001b[38;5;124m/\u001b[39m\u001b[38;5;124m\"\u001b[39m \u001b[38;5;241m+\u001b[39m \u001b[38;5;28mstr\u001b[39m(i)\n\u001b[1;32m     13\u001b[0m np\u001b[38;5;241m.\u001b[39msave(outfile, scope\u001b[38;5;241m.\u001b[39mget_last_trace(\u001b[38;5;28;01mTrue\u001b[39;00m))\n",
      "File \u001b[0;32m~/Desktop/wake_word_power/chipwhisperer/software/chipwhisperer/capture/scopes/OpenADC.py:870\u001b[0m, in \u001b[0;36mOpenADC.capture\u001b[0;34m(self, poll_done)\u001b[0m\n\u001b[1;32m    868\u001b[0m     a \u001b[38;5;241m=\u001b[39m \u001b[38;5;28mself\u001b[39m\u001b[38;5;241m.\u001b[39msc\u001b[38;5;241m.\u001b[39mcapture(\u001b[38;5;28;01mNone\u001b[39;00m)\n\u001b[1;32m    869\u001b[0m \u001b[38;5;28;01melse\u001b[39;00m:\n\u001b[0;32m--> 870\u001b[0m     a \u001b[38;5;241m=\u001b[39m \u001b[38;5;28;43mself\u001b[39;49m\u001b[38;5;241;43m.\u001b[39;49m\u001b[43msc\u001b[49m\u001b[38;5;241;43m.\u001b[39;49m\u001b[43mcapture\u001b[49m\u001b[43m(\u001b[49m\u001b[38;5;28;43mself\u001b[39;49m\u001b[38;5;241;43m.\u001b[39;49m\u001b[43madc\u001b[49m\u001b[38;5;241;43m.\u001b[39;49m\u001b[43moffset\u001b[49m\u001b[43m,\u001b[49m\u001b[43m \u001b[49m\u001b[38;5;28;43mself\u001b[39;49m\u001b[38;5;241;43m.\u001b[39;49m\u001b[43mclock\u001b[49m\u001b[38;5;241;43m.\u001b[39;49m\u001b[43madc_freq\u001b[49m\u001b[43m,\u001b[49m\u001b[43m \u001b[49m\u001b[38;5;28;43mself\u001b[39;49m\u001b[38;5;241;43m.\u001b[39;49m\u001b[43madc\u001b[49m\u001b[38;5;241;43m.\u001b[39;49m\u001b[43msamples\u001b[49m\u001b[43m,\u001b[49m\u001b[43m \u001b[49m\u001b[38;5;28;43mself\u001b[39;49m\u001b[38;5;241;43m.\u001b[39;49m\u001b[43madc\u001b[49m\u001b[38;5;241;43m.\u001b[39;49m\u001b[43msegments\u001b[49m\u001b[43m,\u001b[49m\u001b[43m \u001b[49m\u001b[38;5;28;43mself\u001b[39;49m\u001b[38;5;241;43m.\u001b[39;49m\u001b[43madc\u001b[49m\u001b[38;5;241;43m.\u001b[39;49m\u001b[43msegment_cycles\u001b[49m\u001b[43m,\u001b[49m\u001b[43m \u001b[49m\u001b[43mpoll_done\u001b[49m\u001b[43m)\u001b[49m\n\u001b[1;32m    872\u001b[0m \u001b[38;5;66;03m# _capture_read() must be given the total number of samples to read; in the case of Husky, self.adc.samples\u001b[39;00m\n\u001b[1;32m    873\u001b[0m \u001b[38;5;66;03m# is the number of samples *per segment*, so adjust accordingly:\u001b[39;00m\n\u001b[1;32m    874\u001b[0m \u001b[38;5;28;01mif\u001b[39;00m \u001b[38;5;28mself\u001b[39m\u001b[38;5;241m.\u001b[39m_is_husky:\n",
      "File \u001b[0;32m~/Desktop/wake_word_power/chipwhisperer/software/chipwhisperer/capture/scopes/_OpenADCInterface.py:764\u001b[0m, in \u001b[0;36mOpenADCInterface.capture\u001b[0;34m(self, offset, adc_freq, samples, segments, segment_cycles, poll_done)\u001b[0m\n\u001b[1;32m    762\u001b[0m         offset \u001b[38;5;241m=\u001b[39m \u001b[38;5;241m0\u001b[39m\n\u001b[1;32m    763\u001b[0m     \u001b[38;5;28;01mif\u001b[39;00m \u001b[38;5;129;01mnot\u001b[39;00m timeout:\n\u001b[0;32m--> 764\u001b[0m         \u001b[43mtime\u001b[49m\u001b[38;5;241;43m.\u001b[39;49m\u001b[43msleep\u001b[49m\u001b[43m(\u001b[49m\u001b[43m(\u001b[49m\u001b[43moffset\u001b[49m\u001b[38;5;241;43m+\u001b[39;49m\u001b[43msamples\u001b[49m\u001b[43m)\u001b[49m\u001b[38;5;241;43m/\u001b[39;49m\u001b[43madc_freq\u001b[49m\u001b[43m)\u001b[49m\n\u001b[1;32m    766\u001b[0m \u001b[38;5;28mself\u001b[39m\u001b[38;5;241m.\u001b[39marm(\u001b[38;5;28;01mFalse\u001b[39;00m) \u001b[38;5;66;03m# <------ ADC will stop reading after this\u001b[39;00m\n\u001b[1;32m    767\u001b[0m \u001b[38;5;28;01mreturn\u001b[39;00m timeout\n",
      "\u001b[0;31mKeyboardInterrupt\u001b[0m: "
     ]
    }
   ],
   "source": [
    "num_captures = 200\n",
    "capture_dir = \"./captures/\"\n",
    "capture_name = \"trump_wake_word_15mhz_200\"\n",
    "\n",
    "if not os.path.exists(capture_dir + capture_name): \n",
    "    os.makedirs(capture_dir + capture_name ) \n",
    "\n",
    "for i in range(0, num_captures):\n",
    "    scope.arm()\n",
    "    playsound(os.getcwd() + '/audio/trump_wake_word_delay.wav', False)\n",
    "    scope.capture()\n",
    "    outfile = capture_dir + capture_name + \"/\" + str(i)\n",
    "    np.save(outfile, scope.get_last_trace(True))\n",
    "    time.sleep(random.uniform(1, 3))"
   ]
  },
  {
   "cell_type": "code",
   "execution_count": 30,
   "id": "c349fdcf-7eb3-4920-b8f1-94be4cb03ea4",
   "metadata": {},
   "outputs": [
    {
     "name": "stdout",
     "output_type": "stream",
     "text": [
      "sam_errors      = False\n",
      "sam_led_setting = Default\n",
      "XADC errors     = False\n",
      "ADC errors      = ADC clipped, \n",
      "extclk error    = False\n",
      "trace errors    = False\n",
      "\n",
      "sam_errors      = False\n",
      "sam_led_setting = Default\n",
      "XADC errors     = False\n",
      "ADC errors      = False\n",
      "extclk error    = False\n",
      "trace errors    = False\n",
      "\n"
     ]
    }
   ],
   "source": [
    "print(scope.errors)\n",
    "scope.errors.clear()\n",
    "print(scope.errors)"
   ]
  },
  {
   "cell_type": "code",
   "execution_count": 14,
   "id": "1275247b",
   "metadata": {},
   "outputs": [
    {
     "data": {
      "text/plain": [
       "60000000"
      ]
     },
     "execution_count": 14,
     "metadata": {},
     "output_type": "execute_result"
    }
   ],
   "source": [
    "last_trace = scope.get_last_trace()\n",
    "len(last_trace)"
   ]
  },
  {
   "cell_type": "code",
   "execution_count": 15,
   "id": "65efcd16",
   "metadata": {},
   "outputs": [
    {
     "data": {
      "text/plain": [
       "array([ 0.01171875,  0.00390625,  0.0078125 , ..., -0.5       ,\n",
       "       -0.5       , -0.5       ])"
      ]
     },
     "execution_count": 15,
     "metadata": {},
     "output_type": "execute_result"
    }
   ],
   "source": [
    "last_trace"
   ]
  },
  {
   "cell_type": "code",
   "execution_count": 34,
   "id": "b13d182c-0ad7-4ec5-9b8d-76c3342b8e36",
   "metadata": {},
   "outputs": [],
   "source": [
    "capture_dir = \"./captures/\"\n",
    "capture_name = \"trump_wake_word_20mhz_200\"\n",
    "last_trace = np.load(capture_dir + capture_name + \"/\" + str(87) + '.npy')"
   ]
  },
  {
   "cell_type": "code",
   "execution_count": 35,
   "id": "c31cbb59-d98c-4520-bd39-3c35f767e843",
   "metadata": {},
   "outputs": [
    {
     "data": {
      "text/plain": [
       "array([128, 128, 129, ...,   0,   0,   0], dtype=uint8)"
      ]
     },
     "execution_count": 35,
     "metadata": {},
     "output_type": "execute_result"
    }
   ],
   "source": [
    "last_trace"
   ]
  },
  {
   "cell_type": "code",
   "execution_count": 33,
   "id": "335a40b9",
   "metadata": {},
   "outputs": [
    {
     "name": "stdout",
     "output_type": "stream",
     "text": [
      "getting 600,000 number of points\n"
     ]
    }
   ],
   "source": [
    "# averaging\n",
    "window_size = 100\n",
    "num_points = len(last_trace) // window_size\n",
    "print(\"getting\", f\"{num_points:,}\", \"number of points\")\n",
    "# 1 million seems to be the plotting limit"
   ]
  },
  {
   "cell_type": "code",
   "execution_count": 34,
   "id": "0635ee6f-0832-4f51-a3e0-ab623b73f17b",
   "metadata": {},
   "outputs": [],
   "source": [
    "averaged_trace = [\n",
    "    np.mean(last_trace[i * window_size:(i + 1) * window_size])\n",
    "    for i in range(num_points)\n",
    "]\n",
    "xrange_averaged = list(range(num_points))"
   ]
  },
  {
   "cell_type": "code",
   "execution_count": 35,
   "id": "f3b23e41-b43a-4cc3-9b6c-0c7386d349b2",
   "metadata": {},
   "outputs": [],
   "source": [
    "# plot figure\n",
    "o = figure(width=2000)\n",
    "O = o.line(xrange_averaged, averaged_trace)\n",
    "show(o)"
   ]
  },
  {
   "cell_type": "code",
   "execution_count": 109,
   "id": "7dd73720-05de-4c70-9243-abfee9313d55",
   "metadata": {},
   "outputs": [],
   "source": [
    "# Delete the traces to save memory\n",
    "if 'last_trace' in locals():\n",
    "    del last_trace\n",
    "if 'averaged_trace' in locals():\n",
    "    del averaged_trace\n",
    "if 'o' in locals():\n",
    "    del o"
   ]
  },
  {
   "cell_type": "code",
   "execution_count": 102,
   "id": "02a7b3cb-3daa-47d1-854f-01362d45304f",
   "metadata": {},
   "outputs": [],
   "source": [
    "# plotting the beginning\n",
    "o = figure(width=10000)\n",
    "O = o.line(list(range(0, 1_000_000)), last_trace[0:1_000_000])\n",
    "show(o)"
   ]
  },
  {
   "cell_type": "code",
   "execution_count": 108,
   "id": "1fc0e80b",
   "metadata": {
    "scrolled": true
   },
   "outputs": [
    {
     "name": "stdout",
     "output_type": "stream",
     "text": [
      "getting 1,000,000 number of points\n"
     ]
    }
   ],
   "source": [
    "# Downsampling\n",
    "o = figure(width=2000)\n",
    "\n",
    "n = 100\n",
    "downsampled = last_trace[::n]  # Take every nth point\n",
    "print(\"getting\", f\"{len(downsampled):,}\", \"number of points\")"
   ]
  },
  {
   "cell_type": "code",
   "execution_count": 109,
   "id": "22e83b5a-7628-4ce0-aa4f-5d4236295969",
   "metadata": {},
   "outputs": [],
   "source": [
    "xrange = list(range(len(downsampled)))\n",
    "O = o.line(xrange, downsampled)\n",
    "show(o)"
   ]
  },
  {
   "cell_type": "code",
   "execution_count": 195,
   "id": "e79fbcee-8ec6-4bd8-a0ea-9bd7aeb04506",
   "metadata": {
    "scrolled": true
   },
   "outputs": [
    {
     "data": {
      "text/plain": [
       "True"
      ]
     },
     "execution_count": 195,
     "metadata": {},
     "output_type": "execute_result"
    }
   ],
   "source": [
    "scope.dis()"
   ]
  },
  {
   "cell_type": "code",
   "execution_count": null,
   "id": "257ac8d1-e74e-42cc-be94-5bf9f1c76e8d",
   "metadata": {},
   "outputs": [
    {
     "ename": "KeyboardInterrupt",
     "evalue": "",
     "output_type": "error",
     "traceback": [
      "\u001b[0;31m---------------------------------------------------------------------------\u001b[0m",
      "\u001b[0;31mKeyboardInterrupt\u001b[0m                         Traceback (most recent call last)",
      "Cell \u001b[0;32mIn[49], line 22\u001b[0m\n\u001b[1;32m     19\u001b[0m agg \u001b[38;5;241m=\u001b[39m canvas\u001b[38;5;241m.\u001b[39mline(df, \u001b[38;5;124m'\u001b[39m\u001b[38;5;124mx\u001b[39m\u001b[38;5;124m'\u001b[39m, \u001b[38;5;124m'\u001b[39m\u001b[38;5;124my\u001b[39m\u001b[38;5;124m'\u001b[39m)\n\u001b[1;32m     21\u001b[0m \u001b[38;5;66;03m# Convert the aggregation to an image\u001b[39;00m\n\u001b[0;32m---> 22\u001b[0m img \u001b[38;5;241m=\u001b[39m \u001b[43mtf\u001b[49m\u001b[38;5;241;43m.\u001b[39;49m\u001b[43mshade\u001b[49m\u001b[43m(\u001b[49m\u001b[43magg\u001b[49m\u001b[43m,\u001b[49m\u001b[43m \u001b[49m\u001b[43mcmap\u001b[49m\u001b[38;5;241;43m=\u001b[39;49m\u001b[43m[\u001b[49m\u001b[38;5;124;43m\"\u001b[39;49m\u001b[38;5;124;43mlightblue\u001b[39;49m\u001b[38;5;124;43m\"\u001b[39;49m\u001b[43m,\u001b[49m\u001b[43m \u001b[49m\u001b[38;5;124;43m\"\u001b[39;49m\u001b[38;5;124;43mdarkblue\u001b[39;49m\u001b[38;5;124;43m\"\u001b[39;49m\u001b[43m]\u001b[49m\u001b[43m,\u001b[49m\u001b[43m \u001b[49m\u001b[43mhow\u001b[49m\u001b[38;5;241;43m=\u001b[39;49m\u001b[38;5;124;43m\"\u001b[39;49m\u001b[38;5;124;43mlinear\u001b[39;49m\u001b[38;5;124;43m\"\u001b[39;49m\u001b[43m)\u001b[49m\n\u001b[1;32m     24\u001b[0m \u001b[38;5;66;03m# Export or display the image\u001b[39;00m\n\u001b[1;32m     25\u001b[0m img\u001b[38;5;241m.\u001b[39mto_pil()\u001b[38;5;241m.\u001b[39mshow()  \u001b[38;5;66;03m# Display as an image\u001b[39;00m\n",
      "File \u001b[0;32m~/.pyenv/versions/cw/lib/python3.9/site-packages/datashader/transfer_functions/__init__.py:717\u001b[0m, in \u001b[0;36mshade\u001b[0;34m(agg, cmap, color_key, how, alpha, min_alpha, span, name, color_baseline, rescale_discrete_levels)\u001b[0m\n\u001b[1;32m    713\u001b[0m         \u001b[38;5;28;01mreturn\u001b[39;00m _apply_discrete_colorkey(\n\u001b[1;32m    714\u001b[0m             agg, color_key, alpha, name, color_baseline\n\u001b[1;32m    715\u001b[0m         )\n\u001b[1;32m    716\u001b[0m     \u001b[38;5;28;01melse\u001b[39;00m:\n\u001b[0;32m--> 717\u001b[0m         \u001b[38;5;28;01mreturn\u001b[39;00m \u001b[43m_interpolate\u001b[49m\u001b[43m(\u001b[49m\u001b[43magg\u001b[49m\u001b[43m,\u001b[49m\u001b[43m \u001b[49m\u001b[43mcmap\u001b[49m\u001b[43m,\u001b[49m\u001b[43m \u001b[49m\u001b[43mhow\u001b[49m\u001b[43m,\u001b[49m\u001b[43m \u001b[49m\u001b[43malpha\u001b[49m\u001b[43m,\u001b[49m\u001b[43m \u001b[49m\u001b[43mspan\u001b[49m\u001b[43m,\u001b[49m\u001b[43m \u001b[49m\u001b[43mmin_alpha\u001b[49m\u001b[43m,\u001b[49m\u001b[43m \u001b[49m\u001b[43mname\u001b[49m\u001b[43m,\u001b[49m\n\u001b[1;32m    718\u001b[0m \u001b[43m                            \u001b[49m\u001b[43mrescale_discrete_levels\u001b[49m\u001b[43m)\u001b[49m\n\u001b[1;32m    719\u001b[0m \u001b[38;5;28;01melif\u001b[39;00m agg\u001b[38;5;241m.\u001b[39mndim \u001b[38;5;241m==\u001b[39m \u001b[38;5;241m3\u001b[39m:\n\u001b[1;32m    720\u001b[0m     \u001b[38;5;28;01mreturn\u001b[39;00m _colorize(agg, color_key, how, alpha, span, min_alpha, name, color_baseline,\n\u001b[1;32m    721\u001b[0m                      rescale_discrete_levels)\n",
      "File \u001b[0;32m~/.pyenv/versions/cw/lib/python3.9/site-packages/datashader/transfer_functions/__init__.py:318\u001b[0m, in \u001b[0;36m_interpolate\u001b[0;34m(agg, cmap, how, alpha, span, min_alpha, name, rescale_discrete_levels)\u001b[0m\n\u001b[1;32m    316\u001b[0m r \u001b[38;5;241m=\u001b[39m np\u001b[38;5;241m.\u001b[39mnan_to_num(interp(data, span, rspan, left\u001b[38;5;241m=\u001b[39m\u001b[38;5;241m255\u001b[39m), copy\u001b[38;5;241m=\u001b[39m\u001b[38;5;28;01mFalse\u001b[39;00m)\u001b[38;5;241m.\u001b[39mastype(np\u001b[38;5;241m.\u001b[39muint8)\n\u001b[1;32m    317\u001b[0m g \u001b[38;5;241m=\u001b[39m np\u001b[38;5;241m.\u001b[39mnan_to_num(interp(data, span, gspan, left\u001b[38;5;241m=\u001b[39m\u001b[38;5;241m255\u001b[39m), copy\u001b[38;5;241m=\u001b[39m\u001b[38;5;28;01mFalse\u001b[39;00m)\u001b[38;5;241m.\u001b[39mastype(np\u001b[38;5;241m.\u001b[39muint8)\n\u001b[0;32m--> 318\u001b[0m b \u001b[38;5;241m=\u001b[39m np\u001b[38;5;241m.\u001b[39mnan_to_num(\u001b[43minterp\u001b[49m\u001b[43m(\u001b[49m\u001b[43mdata\u001b[49m\u001b[43m,\u001b[49m\u001b[43m \u001b[49m\u001b[43mspan\u001b[49m\u001b[43m,\u001b[49m\u001b[43m \u001b[49m\u001b[43mbspan\u001b[49m\u001b[43m,\u001b[49m\u001b[43m \u001b[49m\u001b[43mleft\u001b[49m\u001b[38;5;241;43m=\u001b[39;49m\u001b[38;5;241;43m255\u001b[39;49m\u001b[43m)\u001b[49m, copy\u001b[38;5;241m=\u001b[39m\u001b[38;5;28;01mFalse\u001b[39;00m)\u001b[38;5;241m.\u001b[39mastype(np\u001b[38;5;241m.\u001b[39muint8)\n\u001b[1;32m    319\u001b[0m a \u001b[38;5;241m=\u001b[39m np\u001b[38;5;241m.\u001b[39mwhere(np\u001b[38;5;241m.\u001b[39misnan(data), \u001b[38;5;241m0\u001b[39m, alpha)\u001b[38;5;241m.\u001b[39mastype(np\u001b[38;5;241m.\u001b[39muint8)\n\u001b[1;32m    320\u001b[0m rgba \u001b[38;5;241m=\u001b[39m np\u001b[38;5;241m.\u001b[39mdstack([r, g, b, a])\n",
      "File \u001b[0;32m~/.pyenv/versions/cw/lib/python3.9/site-packages/numpy/lib/_function_base_impl.py:1599\u001b[0m, in \u001b[0;36minterp\u001b[0;34m(x, xp, fp, left, right, period)\u001b[0m\n\u001b[1;32m   1596\u001b[0m     xp \u001b[38;5;241m=\u001b[39m np\u001b[38;5;241m.\u001b[39mconcatenate((xp[\u001b[38;5;241m-\u001b[39m\u001b[38;5;241m1\u001b[39m:]\u001b[38;5;241m-\u001b[39mperiod, xp, xp[\u001b[38;5;241m0\u001b[39m:\u001b[38;5;241m1\u001b[39m]\u001b[38;5;241m+\u001b[39mperiod))\n\u001b[1;32m   1597\u001b[0m     fp \u001b[38;5;241m=\u001b[39m np\u001b[38;5;241m.\u001b[39mconcatenate((fp[\u001b[38;5;241m-\u001b[39m\u001b[38;5;241m1\u001b[39m:], fp, fp[\u001b[38;5;241m0\u001b[39m:\u001b[38;5;241m1\u001b[39m]))\n\u001b[0;32m-> 1599\u001b[0m \u001b[38;5;28;01mreturn\u001b[39;00m \u001b[43minterp_func\u001b[49m\u001b[43m(\u001b[49m\u001b[43mx\u001b[49m\u001b[43m,\u001b[49m\u001b[43m \u001b[49m\u001b[43mxp\u001b[49m\u001b[43m,\u001b[49m\u001b[43m \u001b[49m\u001b[43mfp\u001b[49m\u001b[43m,\u001b[49m\u001b[43m \u001b[49m\u001b[43mleft\u001b[49m\u001b[43m,\u001b[49m\u001b[43m \u001b[49m\u001b[43mright\u001b[49m\u001b[43m)\u001b[49m\n",
      "\u001b[0;31mKeyboardInterrupt\u001b[0m: "
     ]
    }
   ],
   "source": [
    "import numpy as np\n",
    "import pandas as pd\n",
    "import datashader as ds\n",
    "import datashader.transfer_functions as tf\n",
    "\n",
    "# Generate a large NumPy array with 100_000_000 random numbers\n",
    "data = last_trace\n",
    "\n",
    "# Create the x-axis as the index\n",
    "x = np.arange(len(data))\n",
    "\n",
    "# Create a DataFrame\n",
    "df = pd.DataFrame({'x': x, 'y': data})\n",
    "\n",
    "# Define a Datashader canvas\n",
    "canvas = ds.Canvas(plot_width=20000, plot_height=20000)\n",
    "\n",
    "# Aggregate the data\n",
    "agg = canvas.line(df, 'x', 'y')\n",
    "\n",
    "# Convert the aggregation to an image\n",
    "img = tf.shade(agg, cmap=[\"lightblue\", \"darkblue\"], how=\"linear\")\n",
    "\n",
    "# Export or display the image\n",
    "img.to_pil().show()  # Display as an image"
   ]
  },
  {
   "cell_type": "code",
   "execution_count": null,
   "id": "89212f69-f65b-459a-a66f-e27944097d1a",
   "metadata": {},
   "outputs": [],
   "source": []
  }
 ],
 "metadata": {
  "kernelspec": {
   "display_name": "Python 3 (ipykernel)",
   "language": "python",
   "name": "python3"
  },
  "language_info": {
   "codemirror_mode": {
    "name": "ipython",
    "version": 3
   },
   "file_extension": ".py",
   "mimetype": "text/x-python",
   "name": "python",
   "nbconvert_exporter": "python",
   "pygments_lexer": "ipython3",
   "version": "3.9.5"
  }
 },
 "nbformat": 4,
 "nbformat_minor": 5
}
